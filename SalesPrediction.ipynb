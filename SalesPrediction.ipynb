{
  "nbformat": 4,
  "nbformat_minor": 0,
  "metadata": {
    "colab": {
      "provenance": []
    },
    "kernelspec": {
      "name": "python3",
      "display_name": "Python 3"
    },
    "language_info": {
      "name": "python"
    }
  },
  "cells": [
    {
      "cell_type": "code",
      "execution_count": 39,
      "metadata": {
        "id": "uGuIh064ms6w"
      },
      "outputs": [],
      "source": [
        "#importing the libraries\n",
        "import numpy as np\n",
        "import pandas as pd\n",
        "import matplotlib.pyplot as plt\n"
      ]
    },
    {
      "cell_type": "code",
      "source": [
        "#reading the dataset\n",
        "data = pd.read_csv(\"advertising.csv\")"
      ],
      "metadata": {
        "id": "Qd83RURxom69"
      },
      "execution_count": 40,
      "outputs": []
    },
    {
      "cell_type": "code",
      "source": [
        "#seperating dataset into independent and dependent variables\n",
        "x=data.iloc[:,:-1].values\n",
        "y=data.iloc[:,-1].values"
      ],
      "metadata": {
        "id": "peWctoLWorPu"
      },
      "execution_count": 41,
      "outputs": []
    },
    {
      "cell_type": "code",
      "source": [
        "#checking the correlation between the features\n",
        "data.corr()\n",
        "#the correlation betwwen the TV advertisment and sales is high,hence the sales is dominated by TV advertisement"
      ],
      "metadata": {
        "colab": {
          "base_uri": "https://localhost:8080/",
          "height": 175
        },
        "id": "9VRa9ke_4Zvj",
        "outputId": "c55e742f-b807-4c43-b353-b82f1cd3b386"
      },
      "execution_count": 42,
      "outputs": [
        {
          "output_type": "execute_result",
          "data": {
            "text/plain": [
              "                 TV     Radio  Newspaper     Sales\n",
              "TV         1.000000  0.054809   0.056648  0.901208\n",
              "Radio      0.054809  1.000000   0.354104  0.349631\n",
              "Newspaper  0.056648  0.354104   1.000000  0.157960\n",
              "Sales      0.901208  0.349631   0.157960  1.000000"
            ],
            "text/html": [
              "\n",
              "\n",
              "  <div id=\"df-60e8a514-579a-4779-b49e-76db21290394\">\n",
              "    <div class=\"colab-df-container\">\n",
              "      <div>\n",
              "<style scoped>\n",
              "    .dataframe tbody tr th:only-of-type {\n",
              "        vertical-align: middle;\n",
              "    }\n",
              "\n",
              "    .dataframe tbody tr th {\n",
              "        vertical-align: top;\n",
              "    }\n",
              "\n",
              "    .dataframe thead th {\n",
              "        text-align: right;\n",
              "    }\n",
              "</style>\n",
              "<table border=\"1\" class=\"dataframe\">\n",
              "  <thead>\n",
              "    <tr style=\"text-align: right;\">\n",
              "      <th></th>\n",
              "      <th>TV</th>\n",
              "      <th>Radio</th>\n",
              "      <th>Newspaper</th>\n",
              "      <th>Sales</th>\n",
              "    </tr>\n",
              "  </thead>\n",
              "  <tbody>\n",
              "    <tr>\n",
              "      <th>TV</th>\n",
              "      <td>1.000000</td>\n",
              "      <td>0.054809</td>\n",
              "      <td>0.056648</td>\n",
              "      <td>0.901208</td>\n",
              "    </tr>\n",
              "    <tr>\n",
              "      <th>Radio</th>\n",
              "      <td>0.054809</td>\n",
              "      <td>1.000000</td>\n",
              "      <td>0.354104</td>\n",
              "      <td>0.349631</td>\n",
              "    </tr>\n",
              "    <tr>\n",
              "      <th>Newspaper</th>\n",
              "      <td>0.056648</td>\n",
              "      <td>0.354104</td>\n",
              "      <td>1.000000</td>\n",
              "      <td>0.157960</td>\n",
              "    </tr>\n",
              "    <tr>\n",
              "      <th>Sales</th>\n",
              "      <td>0.901208</td>\n",
              "      <td>0.349631</td>\n",
              "      <td>0.157960</td>\n",
              "      <td>1.000000</td>\n",
              "    </tr>\n",
              "  </tbody>\n",
              "</table>\n",
              "</div>\n",
              "      <button class=\"colab-df-convert\" onclick=\"convertToInteractive('df-60e8a514-579a-4779-b49e-76db21290394')\"\n",
              "              title=\"Convert this dataframe to an interactive table.\"\n",
              "              style=\"display:none;\">\n",
              "\n",
              "  <svg xmlns=\"http://www.w3.org/2000/svg\" height=\"24px\"viewBox=\"0 0 24 24\"\n",
              "       width=\"24px\">\n",
              "    <path d=\"M0 0h24v24H0V0z\" fill=\"none\"/>\n",
              "    <path d=\"M18.56 5.44l.94 2.06.94-2.06 2.06-.94-2.06-.94-.94-2.06-.94 2.06-2.06.94zm-11 1L8.5 8.5l.94-2.06 2.06-.94-2.06-.94L8.5 2.5l-.94 2.06-2.06.94zm10 10l.94 2.06.94-2.06 2.06-.94-2.06-.94-.94-2.06-.94 2.06-2.06.94z\"/><path d=\"M17.41 7.96l-1.37-1.37c-.4-.4-.92-.59-1.43-.59-.52 0-1.04.2-1.43.59L10.3 9.45l-7.72 7.72c-.78.78-.78 2.05 0 2.83L4 21.41c.39.39.9.59 1.41.59.51 0 1.02-.2 1.41-.59l7.78-7.78 2.81-2.81c.8-.78.8-2.07 0-2.86zM5.41 20L4 18.59l7.72-7.72 1.47 1.35L5.41 20z\"/>\n",
              "  </svg>\n",
              "      </button>\n",
              "\n",
              "\n",
              "\n",
              "    <div id=\"df-1f465a0b-46a0-4b88-8cff-ac195a6e959a\">\n",
              "      <button class=\"colab-df-quickchart\" onclick=\"quickchart('df-1f465a0b-46a0-4b88-8cff-ac195a6e959a')\"\n",
              "              title=\"Suggest charts.\"\n",
              "              style=\"display:none;\">\n",
              "\n",
              "<svg xmlns=\"http://www.w3.org/2000/svg\" height=\"24px\"viewBox=\"0 0 24 24\"\n",
              "     width=\"24px\">\n",
              "    <g>\n",
              "        <path d=\"M19 3H5c-1.1 0-2 .9-2 2v14c0 1.1.9 2 2 2h14c1.1 0 2-.9 2-2V5c0-1.1-.9-2-2-2zM9 17H7v-7h2v7zm4 0h-2V7h2v10zm4 0h-2v-4h2v4z\"/>\n",
              "    </g>\n",
              "</svg>\n",
              "      </button>\n",
              "    </div>\n",
              "\n",
              "<style>\n",
              "  .colab-df-quickchart {\n",
              "    background-color: #E8F0FE;\n",
              "    border: none;\n",
              "    border-radius: 50%;\n",
              "    cursor: pointer;\n",
              "    display: none;\n",
              "    fill: #1967D2;\n",
              "    height: 32px;\n",
              "    padding: 0 0 0 0;\n",
              "    width: 32px;\n",
              "  }\n",
              "\n",
              "  .colab-df-quickchart:hover {\n",
              "    background-color: #E2EBFA;\n",
              "    box-shadow: 0px 1px 2px rgba(60, 64, 67, 0.3), 0px 1px 3px 1px rgba(60, 64, 67, 0.15);\n",
              "    fill: #174EA6;\n",
              "  }\n",
              "\n",
              "  [theme=dark] .colab-df-quickchart {\n",
              "    background-color: #3B4455;\n",
              "    fill: #D2E3FC;\n",
              "  }\n",
              "\n",
              "  [theme=dark] .colab-df-quickchart:hover {\n",
              "    background-color: #434B5C;\n",
              "    box-shadow: 0px 1px 3px 1px rgba(0, 0, 0, 0.15);\n",
              "    filter: drop-shadow(0px 1px 2px rgba(0, 0, 0, 0.3));\n",
              "    fill: #FFFFFF;\n",
              "  }\n",
              "</style>\n",
              "\n",
              "    <script>\n",
              "      async function quickchart(key) {\n",
              "        const containerElement = document.querySelector('#' + key);\n",
              "        const charts = await google.colab.kernel.invokeFunction(\n",
              "            'suggestCharts', [key], {});\n",
              "      }\n",
              "    </script>\n",
              "\n",
              "      <script>\n",
              "\n",
              "function displayQuickchartButton(domScope) {\n",
              "  let quickchartButtonEl =\n",
              "    domScope.querySelector('#df-1f465a0b-46a0-4b88-8cff-ac195a6e959a button.colab-df-quickchart');\n",
              "  quickchartButtonEl.style.display =\n",
              "    google.colab.kernel.accessAllowed ? 'block' : 'none';\n",
              "}\n",
              "\n",
              "        displayQuickchartButton(document);\n",
              "      </script>\n",
              "      <style>\n",
              "    .colab-df-container {\n",
              "      display:flex;\n",
              "      flex-wrap:wrap;\n",
              "      gap: 12px;\n",
              "    }\n",
              "\n",
              "    .colab-df-convert {\n",
              "      background-color: #E8F0FE;\n",
              "      border: none;\n",
              "      border-radius: 50%;\n",
              "      cursor: pointer;\n",
              "      display: none;\n",
              "      fill: #1967D2;\n",
              "      height: 32px;\n",
              "      padding: 0 0 0 0;\n",
              "      width: 32px;\n",
              "    }\n",
              "\n",
              "    .colab-df-convert:hover {\n",
              "      background-color: #E2EBFA;\n",
              "      box-shadow: 0px 1px 2px rgba(60, 64, 67, 0.3), 0px 1px 3px 1px rgba(60, 64, 67, 0.15);\n",
              "      fill: #174EA6;\n",
              "    }\n",
              "\n",
              "    [theme=dark] .colab-df-convert {\n",
              "      background-color: #3B4455;\n",
              "      fill: #D2E3FC;\n",
              "    }\n",
              "\n",
              "    [theme=dark] .colab-df-convert:hover {\n",
              "      background-color: #434B5C;\n",
              "      box-shadow: 0px 1px 3px 1px rgba(0, 0, 0, 0.15);\n",
              "      filter: drop-shadow(0px 1px 2px rgba(0, 0, 0, 0.3));\n",
              "      fill: #FFFFFF;\n",
              "    }\n",
              "  </style>\n",
              "\n",
              "      <script>\n",
              "        const buttonEl =\n",
              "          document.querySelector('#df-60e8a514-579a-4779-b49e-76db21290394 button.colab-df-convert');\n",
              "        buttonEl.style.display =\n",
              "          google.colab.kernel.accessAllowed ? 'block' : 'none';\n",
              "\n",
              "        async function convertToInteractive(key) {\n",
              "          const element = document.querySelector('#df-60e8a514-579a-4779-b49e-76db21290394');\n",
              "          const dataTable =\n",
              "            await google.colab.kernel.invokeFunction('convertToInteractive',\n",
              "                                                     [key], {});\n",
              "          if (!dataTable) return;\n",
              "\n",
              "          const docLinkHtml = 'Like what you see? Visit the ' +\n",
              "            '<a target=\"_blank\" href=https://colab.research.google.com/notebooks/data_table.ipynb>data table notebook</a>'\n",
              "            + ' to learn more about interactive tables.';\n",
              "          element.innerHTML = '';\n",
              "          dataTable['output_type'] = 'display_data';\n",
              "          await google.colab.output.renderOutput(dataTable, element);\n",
              "          const docLink = document.createElement('div');\n",
              "          docLink.innerHTML = docLinkHtml;\n",
              "          element.appendChild(docLink);\n",
              "        }\n",
              "      </script>\n",
              "    </div>\n",
              "  </div>\n"
            ]
          },
          "metadata": {},
          "execution_count": 42
        }
      ]
    },
    {
      "cell_type": "code",
      "source": [
        "#splitting the dataset into training and testing data\n",
        "from sklearn.model_selection import train_test_split\n",
        "x_train,x_test,y_train,y_test=train_test_split(x,y,test_size=0.2,random_state=0)"
      ],
      "metadata": {
        "id": "cImfV59_qmfj"
      },
      "execution_count": 43,
      "outputs": []
    },
    {
      "cell_type": "code",
      "source": [
        "#using random foest regressor to build and train the model\n",
        "from sklearn.ensemble import RandomForestRegressor\n",
        "regression = RandomForestRegressor(n_estimators=15,random_state=0)\n",
        "regression.fit(x_train,y_train)"
      ],
      "metadata": {
        "colab": {
          "base_uri": "https://localhost:8080/",
          "height": 74
        },
        "id": "3WcSpz1UpK3C",
        "outputId": "9dd660f2-7dc5-4561-bfbb-e2be8a6a52fc"
      },
      "execution_count": 44,
      "outputs": [
        {
          "output_type": "execute_result",
          "data": {
            "text/plain": [
              "RandomForestRegressor(n_estimators=15, random_state=0)"
            ],
            "text/html": [
              "<style>#sk-container-id-3 {color: black;background-color: white;}#sk-container-id-3 pre{padding: 0;}#sk-container-id-3 div.sk-toggleable {background-color: white;}#sk-container-id-3 label.sk-toggleable__label {cursor: pointer;display: block;width: 100%;margin-bottom: 0;padding: 0.3em;box-sizing: border-box;text-align: center;}#sk-container-id-3 label.sk-toggleable__label-arrow:before {content: \"▸\";float: left;margin-right: 0.25em;color: #696969;}#sk-container-id-3 label.sk-toggleable__label-arrow:hover:before {color: black;}#sk-container-id-3 div.sk-estimator:hover label.sk-toggleable__label-arrow:before {color: black;}#sk-container-id-3 div.sk-toggleable__content {max-height: 0;max-width: 0;overflow: hidden;text-align: left;background-color: #f0f8ff;}#sk-container-id-3 div.sk-toggleable__content pre {margin: 0.2em;color: black;border-radius: 0.25em;background-color: #f0f8ff;}#sk-container-id-3 input.sk-toggleable__control:checked~div.sk-toggleable__content {max-height: 200px;max-width: 100%;overflow: auto;}#sk-container-id-3 input.sk-toggleable__control:checked~label.sk-toggleable__label-arrow:before {content: \"▾\";}#sk-container-id-3 div.sk-estimator input.sk-toggleable__control:checked~label.sk-toggleable__label {background-color: #d4ebff;}#sk-container-id-3 div.sk-label input.sk-toggleable__control:checked~label.sk-toggleable__label {background-color: #d4ebff;}#sk-container-id-3 input.sk-hidden--visually {border: 0;clip: rect(1px 1px 1px 1px);clip: rect(1px, 1px, 1px, 1px);height: 1px;margin: -1px;overflow: hidden;padding: 0;position: absolute;width: 1px;}#sk-container-id-3 div.sk-estimator {font-family: monospace;background-color: #f0f8ff;border: 1px dotted black;border-radius: 0.25em;box-sizing: border-box;margin-bottom: 0.5em;}#sk-container-id-3 div.sk-estimator:hover {background-color: #d4ebff;}#sk-container-id-3 div.sk-parallel-item::after {content: \"\";width: 100%;border-bottom: 1px solid gray;flex-grow: 1;}#sk-container-id-3 div.sk-label:hover label.sk-toggleable__label {background-color: #d4ebff;}#sk-container-id-3 div.sk-serial::before {content: \"\";position: absolute;border-left: 1px solid gray;box-sizing: border-box;top: 0;bottom: 0;left: 50%;z-index: 0;}#sk-container-id-3 div.sk-serial {display: flex;flex-direction: column;align-items: center;background-color: white;padding-right: 0.2em;padding-left: 0.2em;position: relative;}#sk-container-id-3 div.sk-item {position: relative;z-index: 1;}#sk-container-id-3 div.sk-parallel {display: flex;align-items: stretch;justify-content: center;background-color: white;position: relative;}#sk-container-id-3 div.sk-item::before, #sk-container-id-3 div.sk-parallel-item::before {content: \"\";position: absolute;border-left: 1px solid gray;box-sizing: border-box;top: 0;bottom: 0;left: 50%;z-index: -1;}#sk-container-id-3 div.sk-parallel-item {display: flex;flex-direction: column;z-index: 1;position: relative;background-color: white;}#sk-container-id-3 div.sk-parallel-item:first-child::after {align-self: flex-end;width: 50%;}#sk-container-id-3 div.sk-parallel-item:last-child::after {align-self: flex-start;width: 50%;}#sk-container-id-3 div.sk-parallel-item:only-child::after {width: 0;}#sk-container-id-3 div.sk-dashed-wrapped {border: 1px dashed gray;margin: 0 0.4em 0.5em 0.4em;box-sizing: border-box;padding-bottom: 0.4em;background-color: white;}#sk-container-id-3 div.sk-label label {font-family: monospace;font-weight: bold;display: inline-block;line-height: 1.2em;}#sk-container-id-3 div.sk-label-container {text-align: center;}#sk-container-id-3 div.sk-container {/* jupyter's `normalize.less` sets `[hidden] { display: none; }` but bootstrap.min.css set `[hidden] { display: none !important; }` so we also need the `!important` here to be able to override the default hidden behavior on the sphinx rendered scikit-learn.org. See: https://github.com/scikit-learn/scikit-learn/issues/21755 */display: inline-block !important;position: relative;}#sk-container-id-3 div.sk-text-repr-fallback {display: none;}</style><div id=\"sk-container-id-3\" class=\"sk-top-container\"><div class=\"sk-text-repr-fallback\"><pre>RandomForestRegressor(n_estimators=15, random_state=0)</pre><b>In a Jupyter environment, please rerun this cell to show the HTML representation or trust the notebook. <br />On GitHub, the HTML representation is unable to render, please try loading this page with nbviewer.org.</b></div><div class=\"sk-container\" hidden><div class=\"sk-item\"><div class=\"sk-estimator sk-toggleable\"><input class=\"sk-toggleable__control sk-hidden--visually\" id=\"sk-estimator-id-3\" type=\"checkbox\" checked><label for=\"sk-estimator-id-3\" class=\"sk-toggleable__label sk-toggleable__label-arrow\">RandomForestRegressor</label><div class=\"sk-toggleable__content\"><pre>RandomForestRegressor(n_estimators=15, random_state=0)</pre></div></div></div></div></div>"
            ]
          },
          "metadata": {},
          "execution_count": 44
        }
      ]
    },
    {
      "cell_type": "code",
      "source": [
        "#predict the x_test values\n",
        "y_pred = regression.predict(x_test)\n",
        "np.set_printoptions(precision=2)"
      ],
      "metadata": {
        "id": "2wftDbqbrIn3"
      },
      "execution_count": 45,
      "outputs": []
    },
    {
      "cell_type": "code",
      "source": [
        "#printing predicted and actual dependent variable values\n",
        "print(np.concatenate((y_pred.reshape(-1,1),y_test.reshape(-1,1)),1))"
      ],
      "metadata": {
        "colab": {
          "base_uri": "https://localhost:8080/"
        },
        "id": "BH7CC0rdr8KT",
        "outputId": "f0f65aac-7aed-47d7-f2ad-3956d4613714"
      },
      "execution_count": 46,
      "outputs": [
        {
          "output_type": "stream",
          "name": "stdout",
          "text": [
            "[[10.91 11.3 ]\n",
            " [ 9.99  8.4 ]\n",
            " [11.56 12.  ]\n",
            " [25.07 25.4 ]\n",
            " [16.75 16.7 ]\n",
            " [10.47  8.7 ]\n",
            " [ 8.52  7.2 ]\n",
            " [18.07 18.2 ]\n",
            " [ 8.27  9.2 ]\n",
            " [17.12 16.6 ]\n",
            " [25.11 24.2 ]\n",
            " [11.29 10.6 ]\n",
            " [15.24 15.5 ]\n",
            " [20.2  20.6 ]\n",
            " [12.27 11.8 ]\n",
            " [12.27 13.2 ]\n",
            " [19.99 17.4 ]\n",
            " [ 5.68  1.6 ]\n",
            " [14.2  14.7 ]\n",
            " [17.35 17.  ]\n",
            " [25.15 26.2 ]\n",
            " [12.04 10.3 ]\n",
            " [16.83 16.1 ]\n",
            " [12.11 12.9 ]\n",
            " [ 9.83  8.1 ]\n",
            " [14.47 15.2 ]\n",
            " [16.65 17.6 ]\n",
            " [22.4  22.6 ]\n",
            " [16.37 16.6 ]\n",
            " [ 7.93  8.5 ]\n",
            " [12.3  12.5 ]\n",
            " [23.31 23.7 ]\n",
            " [19.76 16.1 ]\n",
            " [22.48 21.8 ]\n",
            " [ 6.23  5.6 ]\n",
            " [ 6.87  6.7 ]\n",
            " [10.46  9.7 ]\n",
            " [18.03 17.9 ]\n",
            " [12.72 13.6 ]\n",
            " [ 7.13  7.2 ]]\n"
          ]
        }
      ]
    },
    {
      "cell_type": "code",
      "source": [
        "#using metrics for calculating regression score\n",
        "from sklearn.metrics import r2_score\n",
        "r2_score(y_test,y_pred)"
      ],
      "metadata": {
        "colab": {
          "base_uri": "https://localhost:8080/"
        },
        "id": "q3oDmXeTsLb6",
        "outputId": "d1da7a27-f34c-4f7f-d81f-6c19490b20db"
      },
      "execution_count": 47,
      "outputs": [
        {
          "output_type": "execute_result",
          "data": {
            "text/plain": [
              "0.9540812022786731"
            ]
          },
          "metadata": {},
          "execution_count": 47
        }
      ]
    },
    {
      "cell_type": "code",
      "source": [],
      "metadata": {
        "id": "PKqtEcpHaj6j"
      },
      "execution_count": 47,
      "outputs": []
    },
    {
      "cell_type": "code",
      "source": [
        "#calculation mean_square error, lower the mean_square error better the model\n",
        "from sklearn.metrics import mean_squared_error\n",
        "errors = list()\n",
        "for i in range(len(y_test)):\n",
        " err = (y_test[i] - y_pred[i])**2\n",
        " errors.append(err)\n",
        " print('>%.1f, %.1f = %.3f' % (y_test[i], y_pred[i], err))"
      ],
      "metadata": {
        "colab": {
          "base_uri": "https://localhost:8080/"
        },
        "id": "jG823BINtgE5",
        "outputId": "0fbc0d4a-1b4e-4250-b80b-3ba56b205801"
      },
      "execution_count": 48,
      "outputs": [
        {
          "output_type": "stream",
          "name": "stdout",
          "text": [
            ">11.3, 10.9 = 0.150\n",
            ">8.4, 10.0 = 2.518\n",
            ">12.0, 11.6 = 0.194\n",
            ">25.4, 25.1 = 0.111\n",
            ">16.7, 16.7 = 0.002\n",
            ">8.7, 10.5 = 3.121\n",
            ">7.2, 8.5 = 1.742\n",
            ">18.2, 18.1 = 0.018\n",
            ">9.2, 8.3 = 0.859\n",
            ">16.6, 17.1 = 0.270\n",
            ">24.2, 25.1 = 0.822\n",
            ">10.6, 11.3 = 0.481\n",
            ">15.5, 15.2 = 0.068\n",
            ">20.6, 20.2 = 0.160\n",
            ">11.8, 12.3 = 0.218\n",
            ">13.2, 12.3 = 0.871\n",
            ">17.4, 20.0 = 6.725\n",
            ">1.6, 5.7 = 16.646\n",
            ">14.7, 14.2 = 0.250\n",
            ">17.0, 17.3 = 0.120\n",
            ">26.2, 25.2 = 1.096\n",
            ">10.3, 12.0 = 3.028\n",
            ">16.1, 16.8 = 0.538\n",
            ">12.9, 12.1 = 0.619\n",
            ">8.1, 9.8 = 2.981\n",
            ">15.2, 14.5 = 0.528\n",
            ">17.6, 16.6 = 0.909\n",
            ">22.6, 22.4 = 0.040\n",
            ">16.6, 16.4 = 0.051\n",
            ">8.5, 7.9 = 0.329\n",
            ">12.5, 12.3 = 0.040\n",
            ">23.7, 23.3 = 0.150\n",
            ">16.1, 19.8 = 13.396\n",
            ">21.8, 22.5 = 0.462\n",
            ">5.6, 6.2 = 0.393\n",
            ">6.7, 6.9 = 0.030\n",
            ">9.7, 10.5 = 0.578\n",
            ">17.9, 18.0 = 0.016\n",
            ">13.6, 12.7 = 0.774\n",
            ">7.2, 7.1 = 0.005\n"
          ]
        }
      ]
    },
    {
      "cell_type": "code",
      "source": [
        "#good model have root mean square error nearer to zero\n",
        "from scipy.sparse.linalg._isolve.lsqr import sqrt\n",
        "from sklearn.metrics import mean_squared_error\n",
        "errors = list()\n",
        "for i in range(len(y_test)):\n",
        " err = sqrt((y_test[i] - y_pred[i])**2)\n",
        " errors.append(err)\n",
        " print('>%.1f, %.1f = %.3f' % (y_test[i], y_pred[i], err))"
      ],
      "metadata": {
        "colab": {
          "base_uri": "https://localhost:8080/"
        },
        "id": "gCyppjN5uyLc",
        "outputId": "f44ec7e2-be51-49a4-eb20-c970831f3a4d"
      },
      "execution_count": 49,
      "outputs": [
        {
          "output_type": "stream",
          "name": "stdout",
          "text": [
            ">11.3, 10.9 = 0.387\n",
            ">8.4, 10.0 = 1.587\n",
            ">12.0, 11.6 = 0.440\n",
            ">25.4, 25.1 = 0.333\n",
            ">16.7, 16.7 = 0.047\n",
            ">8.7, 10.5 = 1.767\n",
            ">7.2, 8.5 = 1.320\n",
            ">18.2, 18.1 = 0.133\n",
            ">9.2, 8.3 = 0.927\n",
            ">16.6, 17.1 = 0.520\n",
            ">24.2, 25.1 = 0.907\n",
            ">10.6, 11.3 = 0.693\n",
            ">15.5, 15.2 = 0.260\n",
            ">20.6, 20.2 = 0.400\n",
            ">11.8, 12.3 = 0.467\n",
            ">13.2, 12.3 = 0.933\n",
            ">17.4, 20.0 = 2.593\n",
            ">1.6, 5.7 = 4.080\n",
            ">14.7, 14.2 = 0.500\n",
            ">17.0, 17.3 = 0.347\n",
            ">26.2, 25.2 = 1.047\n",
            ">10.3, 12.0 = 1.740\n",
            ">16.1, 16.8 = 0.733\n",
            ">12.9, 12.1 = 0.787\n",
            ">8.1, 9.8 = 1.727\n",
            ">15.2, 14.5 = 0.727\n",
            ">17.6, 16.6 = 0.953\n",
            ">22.6, 22.4 = 0.200\n",
            ">16.6, 16.4 = 0.227\n",
            ">8.5, 7.9 = 0.573\n",
            ">12.5, 12.3 = 0.200\n",
            ">23.7, 23.3 = 0.387\n",
            ">16.1, 19.8 = 3.660\n",
            ">21.8, 22.5 = 0.680\n",
            ">5.6, 6.2 = 0.627\n",
            ">6.7, 6.9 = 0.173\n",
            ">9.7, 10.5 = 0.760\n",
            ">17.9, 18.0 = 0.127\n",
            ">13.6, 12.7 = 0.880\n",
            ">7.2, 7.1 = 0.073\n"
          ]
        }
      ]
    },
    {
      "cell_type": "code",
      "source": [
        "y_pred = regression.predict([[230.1,37.8,69.2]])\n"
      ],
      "metadata": {
        "id": "R22eUdTBvHSx"
      },
      "execution_count": 50,
      "outputs": []
    },
    {
      "cell_type": "code",
      "source": [
        "print(y_pred)"
      ],
      "metadata": {
        "colab": {
          "base_uri": "https://localhost:8080/"
        },
        "id": "-Mfaafu924Q7",
        "outputId": "21425c07-fdc2-4c1f-a677-78f07e686b24"
      },
      "execution_count": 51,
      "outputs": [
        {
          "output_type": "stream",
          "name": "stdout",
          "text": [
            "[22.06]\n"
          ]
        }
      ]
    }
  ]
}